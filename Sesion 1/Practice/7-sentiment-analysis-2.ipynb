{
 "cells": [
  {
   "cell_type": "markdown",
   "metadata": {
    "id": "um9kyvckavBd"
   },
   "source": [
    "<center>\n",
    "\n",
    "<h1>📚 Maestría en Inteligencia Artificial Aplicada – 3er Semestre</h1>\n",
    "\n",
    "<h3>Asignatura: Procesamiento de Lenguaje Natural</h3>\n",
    "\n",
    "<hr style=\"width:60%;\">\n",
    "\n",
    "<h2>👨‍🎓 Estudiantes</h2>\n",
    "<ul style=\"list-style:none; padding:0; font-size:18px;\">\n",
    "    <li>Claudia Martínez</li>\n",
    "    <li>Sebastián Murillas</li>\n",
    "    <li>Mario J. Castellanos</li>\n",
    "    <li>Enrique Manzano</li>\n",
    "    <li>Octavio Guerra</li>\n",
    "</ul>\n",
    "\n",
    "<hr style=\"width:60%;\">\n",
    "\n",
    "<h3>📅 Fecha: Agosto 15, 2025</h3>\n",
    "\n",
    "</center>\n"
   ]
  },
  {
   "cell_type": "markdown",
   "metadata": {
    "id": "9kd-h-JVFw1n"
   },
   "source": [
    "# Analisis de Sentimientos en reseñas de Hoteles hechas en Trip Advisor\n",
    "\n",
    "[![Open In Colab](https://colab.research.google.com/assets/colab-badge.svg)](https:////colab.research.google.com/github/semurillas/NLP_MIAA_252/blob/main/Sesion%201/Practice/7-sentiment-analysis.ipynb)\n",
    "\n",
    "Para esta práctica, decidimos realizar un análisis de sentimientos a partir de reseñas de hoteles publicadas en TripAdvisor. El objetivo fue clasificar cada reseña en uno de dos posibles valores: negativo (neg) o positivo (pos). Tomando como referencia el ejercicio base compartido por el profesor Luis Ferro, utilizamos el modelo de NLTK con Vader Lexicon para evaluar y comparar el nivel de precisión de las predicciones que genera y entrega frente a las valoraciones reales presentes en el conjunto de datos analizado.\n",
    "\n",
    "### Referencias\n",
    "* [Natural Language Processing in Action](https://www.manning.com/books/natural-language-processing-in-action)"
   ]
  },
  {
   "cell_type": "code",
   "execution_count": 1,
   "metadata": {
    "id": "hi9e5tTKFw1q"
   },
   "outputs": [],
   "source": [
    "import importlib.metadata\n",
    "import warnings\n",
    "\n",
    "warnings.filterwarnings('ignore')       # Ignoring any warning\n",
    "\n",
    "# Use importlib.metadata to get installed packages\n",
    "installed_packages = [dist.metadata['Name'].lower() for dist in importlib.metadata.Distribution.discover()]\n",
    "IN_COLAB = 'google-colab' in installed_packages"
   ]
  },
  {
   "cell_type": "markdown",
   "metadata": {
    "id": "NtLJ0LB6N-lK"
   },
   "source": [
    "## Loading all the Libraries required in this Google Colab Notebook"
   ]
  },
  {
   "cell_type": "code",
   "execution_count": 2,
   "metadata": {
    "colab": {
     "base_uri": "https://localhost:8080/"
    },
    "id": "OwnZeNI8Fw1r",
    "outputId": "4259bbe9-bace-409f-8b72-9711103dc2b4"
   },
   "outputs": [],
   "source": [
    "!test '{IN_COLAB}' = 'True' && pip install -r https://raw.githubusercontent.com/semurillas/NLP_MIAA_252/refs/heads/main/requirements_7.txt"
   ]
  },
  {
   "cell_type": "markdown",
   "metadata": {
    "id": "gMTzotbXFw1s"
   },
   "source": [
    "## Loading Dataset\n",
    "\n",
    "Empecemos por cargar el dataset, corresponding to customers giving reviews of Hotels in Trip Advisor. This dataset is available in: https://www.kaggle.com/code/heeraldedhia/airbnb-reviews-sentiment-analysis-and-prediction/notebook."
   ]
  },
  {
   "cell_type": "code",
   "execution_count": 3,
   "metadata": {
    "id": "kxkoVvmaFw1s"
   },
   "outputs": [],
   "source": [
    "import pandas as pd\n",
    "import numpy as np\n",
    "\n",
    "github_csv_url = 'https://raw.githubusercontent.com/semurillas/NLP_MIAA_252/refs/heads/Practice-1/Sesion%201/datasets/tripadvisor_hotel_reviews.csv'\n",
    "reviews = pd.read_csv(github_csv_url)"
   ]
  },
  {
   "cell_type": "code",
   "execution_count": 4,
   "metadata": {
    "colab": {
     "base_uri": "https://localhost:8080/",
     "height": 206
    },
    "id": "YM42wguFQzLd",
    "outputId": "282d78fb-8ab0-4c78-d47f-26e881f6705f"
   },
   "outputs": [
    {
     "data": {
      "text/html": [
       "<div>\n",
       "<style scoped>\n",
       "    .dataframe tbody tr th:only-of-type {\n",
       "        vertical-align: middle;\n",
       "    }\n",
       "\n",
       "    .dataframe tbody tr th {\n",
       "        vertical-align: top;\n",
       "    }\n",
       "\n",
       "    .dataframe thead th {\n",
       "        text-align: right;\n",
       "    }\n",
       "</style>\n",
       "<table border=\"1\" class=\"dataframe\">\n",
       "  <thead>\n",
       "    <tr style=\"text-align: right;\">\n",
       "      <th></th>\n",
       "      <th>Review</th>\n",
       "      <th>Rating</th>\n",
       "    </tr>\n",
       "  </thead>\n",
       "  <tbody>\n",
       "    <tr>\n",
       "      <th>0</th>\n",
       "      <td>nice hotel expensive parking got good deal sta...</td>\n",
       "      <td>4</td>\n",
       "    </tr>\n",
       "    <tr>\n",
       "      <th>1</th>\n",
       "      <td>ok nothing special charge diamond member hilto...</td>\n",
       "      <td>2</td>\n",
       "    </tr>\n",
       "    <tr>\n",
       "      <th>2</th>\n",
       "      <td>nice rooms not 4* experience hotel monaco seat...</td>\n",
       "      <td>3</td>\n",
       "    </tr>\n",
       "    <tr>\n",
       "      <th>3</th>\n",
       "      <td>unique, great stay, wonderful time hotel monac...</td>\n",
       "      <td>5</td>\n",
       "    </tr>\n",
       "    <tr>\n",
       "      <th>4</th>\n",
       "      <td>great stay great stay, went seahawk game aweso...</td>\n",
       "      <td>5</td>\n",
       "    </tr>\n",
       "  </tbody>\n",
       "</table>\n",
       "</div>"
      ],
      "text/plain": [
       "                                              Review  Rating\n",
       "0  nice hotel expensive parking got good deal sta...       4\n",
       "1  ok nothing special charge diamond member hilto...       2\n",
       "2  nice rooms not 4* experience hotel monaco seat...       3\n",
       "3  unique, great stay, wonderful time hotel monac...       5\n",
       "4  great stay great stay, went seahawk game aweso...       5"
      ]
     },
     "execution_count": 4,
     "metadata": {},
     "output_type": "execute_result"
    }
   ],
   "source": [
    "# Let's see if the data was loaded in the dataframe reviews\n",
    "reviews.head()"
   ]
  },
  {
   "cell_type": "code",
   "execution_count": 5,
   "metadata": {
    "colab": {
     "base_uri": "https://localhost:8080/"
    },
    "id": "PWryK5cSYqmH",
    "outputId": "66a2bec5-9e25-4cb1-b1d6-559f632efd48"
   },
   "outputs": [
    {
     "data": {
      "text/plain": [
       "(20491, 2)"
      ]
     },
     "execution_count": 5,
     "metadata": {},
     "output_type": "execute_result"
    }
   ],
   "source": [
    "# Let's see how records were loaded\n",
    "reviews.shape"
   ]
  },
  {
   "cell_type": "markdown",
   "metadata": {
    "id": "RoZ4gMiVY0jf"
   },
   "source": [
    "## Note 1\n",
    "Were loaded 20.491 records from the file with reviews of Hotels in Trip Advisor"
   ]
  },
  {
   "cell_type": "markdown",
   "metadata": {
    "id": "PT8DNNatFw1s"
   },
   "source": [
    "## Checking for Null and Empty Values in the Dataset reviews"
   ]
  },
  {
   "cell_type": "code",
   "execution_count": 6,
   "metadata": {
    "colab": {
     "base_uri": "https://localhost:8080/",
     "height": 146
    },
    "id": "-IfSzSIkTmMW",
    "outputId": "ff138da4-ce15-4464-be9a-3e113fbfc178"
   },
   "outputs": [
    {
     "data": {
      "text/plain": [
       "Review    0\n",
       "Rating    0\n",
       "dtype: int64"
      ]
     },
     "execution_count": 6,
     "metadata": {},
     "output_type": "execute_result"
    }
   ],
   "source": [
    "# Let's check if there are any null values\n",
    "reviews.isna().sum()"
   ]
  },
  {
   "cell_type": "code",
   "execution_count": 7,
   "metadata": {
    "colab": {
     "base_uri": "https://localhost:8080/"
    },
    "id": "UsP97eunFw1t",
    "outputId": "fd88e3b0-0782-4b3a-fa67-9fec99d5808f"
   },
   "outputs": [
    {
     "name": "stdout",
     "output_type": "stream",
     "text": [
      "There are no empty values\n"
     ]
    }
   ],
   "source": [
    "#Let's check if there are any empty vaules for Review and Rating\n",
    "if reviews[reviews.Review == ''].index.size > 0 or reviews[reviews.Rating == ''].index.size > 0 :\n",
    "    print('There are empty values')\n",
    "    print(reviews[reviews.Review == ''].index)\n",
    "    print(reviews[reviews.Rating == ''].index)\n",
    "else:\n",
    "    print('There are no empty values')"
   ]
  },
  {
   "cell_type": "markdown",
   "metadata": {
    "id": "rudSdc6oWwCh"
   },
   "source": [
    "## Note 2\n",
    "The **good new** is that our dataset of Reviews of Hotels **has not null or empty values**. So, we can work with this dataset for the purpose of this Practice."
   ]
  },
  {
   "cell_type": "markdown",
   "metadata": {
    "id": "6rULS5ipXE9w"
   },
   "source": [
    "## Checking the quantity of Ratings by Value\n",
    "\n",
    "Let's see how many records there are in the dataset by Rating\n"
   ]
  },
  {
   "cell_type": "code",
   "execution_count": 8,
   "metadata": {
    "colab": {
     "base_uri": "https://localhost:8080/",
     "height": 272
    },
    "id": "ZcEAC8J7Fw1t",
    "outputId": "efc5b6b9-f98a-4de6-adff-cc2f319f251d"
   },
   "outputs": [
    {
     "data": {
      "text/plain": [
       "Rating\n",
       "5    9054\n",
       "4    6039\n",
       "3    2184\n",
       "2    1793\n",
       "1    1421\n",
       "Name: count, dtype: int64"
      ]
     },
     "execution_count": 8,
     "metadata": {},
     "output_type": "execute_result"
    }
   ],
   "source": [
    "reviews.Rating.value_counts()"
   ]
  },
  {
   "cell_type": "markdown",
   "metadata": {
    "id": "MZ8ynO8ZXRQ6"
   },
   "source": [
    "## Note 3\n",
    "There are more records with Rating 5, than Ratings 1 and 2.\n",
    "\n",
    "This dataset is somewhat unbalanced, as there are significantly more records with a rating of 5 than with ratings of 1 or 2. This imbalance could affect the analysis, as the model might develop a bias toward predicting positive outcomes rather than negative ones.\n",
    "\n",
    "Additionally, based on the information available on Kaggle for this dataset, it may be advisable to remove ratings of 3 and 4, as they are considered neutral. Our goal is to focus the analysis on two possible sentiment values: Negative (neg) and Positive (pos)."
   ]
  },
  {
   "cell_type": "markdown",
   "metadata": {
    "id": "AgG6JnKIZXmy"
   },
   "source": [
    "## Removing records with Rating 3 and 4 because are considered Neutral"
   ]
  },
  {
   "cell_type": "code",
   "execution_count": 9,
   "metadata": {
    "colab": {
     "base_uri": "https://localhost:8080/"
    },
    "id": "KZVJ2HGzu1Q4",
    "outputId": "19bb5bc6-4ff6-4ae9-b80f-39451f7ee15a"
   },
   "outputs": [
    {
     "data": {
      "text/plain": [
       "(12268, 2)"
      ]
     },
     "execution_count": 9,
     "metadata": {},
     "output_type": "execute_result"
    }
   ],
   "source": [
    "# Removing the Ratings 3 and 4 because are considered neutral\n",
    "reviews = reviews[reviews.Rating != 3]\n",
    "reviews = reviews[reviews.Rating != 4]\n",
    "reviews.shape"
   ]
  },
  {
   "cell_type": "markdown",
   "metadata": {
    "id": "8xFcy00WFw1t"
   },
   "source": [
    "To keep things simple, we are going to use VADER to compute the positive or negative score. This model is already implemented in NLTK."
   ]
  },
  {
   "cell_type": "code",
   "execution_count": 10,
   "metadata": {
    "colab": {
     "base_uri": "https://localhost:8080/"
    },
    "id": "vS0cXej-Fw1u",
    "outputId": "bc3292a2-a0c7-48d3-ca97-d17340e34ad2"
   },
   "outputs": [
    {
     "name": "stderr",
     "output_type": "stream",
     "text": [
      "[nltk_data] Downloading package vader_lexicon to\n",
      "[nltk_data]     /Users/mjcastell/nltk_data...\n"
     ]
    },
    {
     "data": {
      "text/plain": [
       "True"
      ]
     },
     "execution_count": 10,
     "metadata": {},
     "output_type": "execute_result"
    }
   ],
   "source": [
    "import nltk\n",
    "nltk.download('vader_lexicon')"
   ]
  },
  {
   "cell_type": "markdown",
   "metadata": {
    "id": "NJCFhLHHZltc"
   },
   "source": [
    "## Adding a new Column to dataset with name \"Scores\"\n",
    "\n",
    "Let's add a new column to dataset reviews with name \"Scores\". This column has the Sentiment Intensity Analyzer provided by NLTK with VADER_LEXICON to the Column Review"
   ]
  },
  {
   "cell_type": "code",
   "execution_count": 11,
   "metadata": {
    "colab": {
     "base_uri": "https://localhost:8080/",
     "height": 206
    },
    "id": "MjmjqWAqFw1u",
    "outputId": "04bc725f-4385-4e59-a77d-8b81d8b6a923"
   },
   "outputs": [
    {
     "data": {
      "text/html": [
       "<div>\n",
       "<style scoped>\n",
       "    .dataframe tbody tr th:only-of-type {\n",
       "        vertical-align: middle;\n",
       "    }\n",
       "\n",
       "    .dataframe tbody tr th {\n",
       "        vertical-align: top;\n",
       "    }\n",
       "\n",
       "    .dataframe thead th {\n",
       "        text-align: right;\n",
       "    }\n",
       "</style>\n",
       "<table border=\"1\" class=\"dataframe\">\n",
       "  <thead>\n",
       "    <tr style=\"text-align: right;\">\n",
       "      <th></th>\n",
       "      <th>Review</th>\n",
       "      <th>Rating</th>\n",
       "      <th>scores</th>\n",
       "    </tr>\n",
       "  </thead>\n",
       "  <tbody>\n",
       "    <tr>\n",
       "      <th>1</th>\n",
       "      <td>ok nothing special charge diamond member hilto...</td>\n",
       "      <td>2</td>\n",
       "      <td>{'neg': 0.11, 'neu': 0.701, 'pos': 0.189, 'com...</td>\n",
       "    </tr>\n",
       "    <tr>\n",
       "      <th>3</th>\n",
       "      <td>unique, great stay, wonderful time hotel monac...</td>\n",
       "      <td>5</td>\n",
       "      <td>{'neg': 0.06, 'neu': 0.555, 'pos': 0.385, 'com...</td>\n",
       "    </tr>\n",
       "    <tr>\n",
       "      <th>4</th>\n",
       "      <td>great stay great stay, went seahawk game aweso...</td>\n",
       "      <td>5</td>\n",
       "      <td>{'neg': 0.135, 'neu': 0.643, 'pos': 0.221, 'co...</td>\n",
       "    </tr>\n",
       "    <tr>\n",
       "      <th>5</th>\n",
       "      <td>love monaco staff husband stayed hotel crazy w...</td>\n",
       "      <td>5</td>\n",
       "      <td>{'neg': 0.084, 'neu': 0.651, 'pos': 0.265, 'co...</td>\n",
       "    </tr>\n",
       "    <tr>\n",
       "      <th>6</th>\n",
       "      <td>cozy stay rainy city, husband spent 7 nights m...</td>\n",
       "      <td>5</td>\n",
       "      <td>{'neg': 0.026, 'neu': 0.609, 'pos': 0.364, 'co...</td>\n",
       "    </tr>\n",
       "  </tbody>\n",
       "</table>\n",
       "</div>"
      ],
      "text/plain": [
       "                                              Review  Rating  \\\n",
       "1  ok nothing special charge diamond member hilto...       2   \n",
       "3  unique, great stay, wonderful time hotel monac...       5   \n",
       "4  great stay great stay, went seahawk game aweso...       5   \n",
       "5  love monaco staff husband stayed hotel crazy w...       5   \n",
       "6  cozy stay rainy city, husband spent 7 nights m...       5   \n",
       "\n",
       "                                              scores  \n",
       "1  {'neg': 0.11, 'neu': 0.701, 'pos': 0.189, 'com...  \n",
       "3  {'neg': 0.06, 'neu': 0.555, 'pos': 0.385, 'com...  \n",
       "4  {'neg': 0.135, 'neu': 0.643, 'pos': 0.221, 'co...  \n",
       "5  {'neg': 0.084, 'neu': 0.651, 'pos': 0.265, 'co...  \n",
       "6  {'neg': 0.026, 'neu': 0.609, 'pos': 0.364, 'co...  "
      ]
     },
     "execution_count": 11,
     "metadata": {},
     "output_type": "execute_result"
    }
   ],
   "source": [
    "from nltk.sentiment.vader import SentimentIntensityAnalyzer\n",
    "\n",
    "sid = SentimentIntensityAnalyzer()\n",
    "reviews['scores'] = reviews.Review.apply(lambda r: sid.polarity_scores(r))\n",
    "reviews.head()"
   ]
  },
  {
   "cell_type": "markdown",
   "metadata": {
    "id": "uRryyiaVFw1u"
   },
   "source": [
    "## Using the score to generate a prediction label\n",
    "With these scores, we can now convert the result into a prediction label"
   ]
  },
  {
   "cell_type": "code",
   "execution_count": 12,
   "metadata": {
    "colab": {
     "base_uri": "https://localhost:8080/",
     "height": 676
    },
    "id": "f7NLU66gFw1u",
    "outputId": "bc459ff0-561d-4ddd-b711-cc827297f357"
   },
   "outputs": [
    {
     "data": {
      "text/html": [
       "<div>\n",
       "<style scoped>\n",
       "    .dataframe tbody tr th:only-of-type {\n",
       "        vertical-align: middle;\n",
       "    }\n",
       "\n",
       "    .dataframe tbody tr th {\n",
       "        vertical-align: top;\n",
       "    }\n",
       "\n",
       "    .dataframe thead th {\n",
       "        text-align: right;\n",
       "    }\n",
       "</style>\n",
       "<table border=\"1\" class=\"dataframe\">\n",
       "  <thead>\n",
       "    <tr style=\"text-align: right;\">\n",
       "      <th></th>\n",
       "      <th>Review</th>\n",
       "      <th>Rating</th>\n",
       "      <th>scores</th>\n",
       "      <th>compound</th>\n",
       "    </tr>\n",
       "  </thead>\n",
       "  <tbody>\n",
       "    <tr>\n",
       "      <th>1</th>\n",
       "      <td>ok nothing special charge diamond member hilto...</td>\n",
       "      <td>2</td>\n",
       "      <td>{'neg': 0.11, 'neu': 0.701, 'pos': 0.189, 'com...</td>\n",
       "      <td>0.9787</td>\n",
       "    </tr>\n",
       "    <tr>\n",
       "      <th>3</th>\n",
       "      <td>unique, great stay, wonderful time hotel monac...</td>\n",
       "      <td>5</td>\n",
       "      <td>{'neg': 0.06, 'neu': 0.555, 'pos': 0.385, 'com...</td>\n",
       "      <td>0.9912</td>\n",
       "    </tr>\n",
       "    <tr>\n",
       "      <th>4</th>\n",
       "      <td>great stay great stay, went seahawk game aweso...</td>\n",
       "      <td>5</td>\n",
       "      <td>{'neg': 0.135, 'neu': 0.643, 'pos': 0.221, 'co...</td>\n",
       "      <td>0.9797</td>\n",
       "    </tr>\n",
       "    <tr>\n",
       "      <th>5</th>\n",
       "      <td>love monaco staff husband stayed hotel crazy w...</td>\n",
       "      <td>5</td>\n",
       "      <td>{'neg': 0.084, 'neu': 0.651, 'pos': 0.265, 'co...</td>\n",
       "      <td>0.9870</td>\n",
       "    </tr>\n",
       "    <tr>\n",
       "      <th>6</th>\n",
       "      <td>cozy stay rainy city, husband spent 7 nights m...</td>\n",
       "      <td>5</td>\n",
       "      <td>{'neg': 0.026, 'neu': 0.609, 'pos': 0.364, 'co...</td>\n",
       "      <td>0.9925</td>\n",
       "    </tr>\n",
       "    <tr>\n",
       "      <th>8</th>\n",
       "      <td>hotel stayed hotel monaco cruise, rooms genero...</td>\n",
       "      <td>5</td>\n",
       "      <td>{'neg': 0.038, 'neu': 0.663, 'pos': 0.298, 'co...</td>\n",
       "      <td>0.9618</td>\n",
       "    </tr>\n",
       "    <tr>\n",
       "      <th>9</th>\n",
       "      <td>excellent stayed hotel monaco past w/e delight...</td>\n",
       "      <td>5</td>\n",
       "      <td>{'neg': 0.064, 'neu': 0.451, 'pos': 0.484, 'co...</td>\n",
       "      <td>0.9756</td>\n",
       "    </tr>\n",
       "    <tr>\n",
       "      <th>10</th>\n",
       "      <td>poor value stayed monaco seattle july, nice ho...</td>\n",
       "      <td>2</td>\n",
       "      <td>{'neg': 0.08, 'neu': 0.524, 'pos': 0.395, 'com...</td>\n",
       "      <td>0.9666</td>\n",
       "    </tr>\n",
       "    <tr>\n",
       "      <th>15</th>\n",
       "      <td>horrible customer service hotel stay february ...</td>\n",
       "      <td>1</td>\n",
       "      <td>{'neg': 0.132, 'neu': 0.701, 'pos': 0.167, 'co...</td>\n",
       "      <td>0.8496</td>\n",
       "    </tr>\n",
       "    <tr>\n",
       "      <th>16</th>\n",
       "      <td>disappointed say anticipating stay hotel monac...</td>\n",
       "      <td>2</td>\n",
       "      <td>{'neg': 0.096, 'neu': 0.668, 'pos': 0.236, 'co...</td>\n",
       "      <td>0.9905</td>\n",
       "    </tr>\n",
       "    <tr>\n",
       "      <th>17</th>\n",
       "      <td>fantastic stay monaco seattle hotel monaco hol...</td>\n",
       "      <td>5</td>\n",
       "      <td>{'neg': 0.042, 'neu': 0.625, 'pos': 0.333, 'co...</td>\n",
       "      <td>0.9948</td>\n",
       "    </tr>\n",
       "    <tr>\n",
       "      <th>18</th>\n",
       "      <td>good choice hotel recommended sister, great lo...</td>\n",
       "      <td>5</td>\n",
       "      <td>{'neg': 0.084, 'neu': 0.405, 'pos': 0.512, 'co...</td>\n",
       "      <td>0.9300</td>\n",
       "    </tr>\n",
       "    <tr>\n",
       "      <th>20</th>\n",
       "      <td>service service service spent week g-friend la...</td>\n",
       "      <td>5</td>\n",
       "      <td>{'neg': 0.07, 'neu': 0.741, 'pos': 0.189, 'com...</td>\n",
       "      <td>0.9754</td>\n",
       "    </tr>\n",
       "    <tr>\n",
       "      <th>21</th>\n",
       "      <td>excellent stay, delightful surprise stay monac...</td>\n",
       "      <td>5</td>\n",
       "      <td>{'neg': 0.0, 'neu': 0.287, 'pos': 0.713, 'comp...</td>\n",
       "      <td>0.9831</td>\n",
       "    </tr>\n",
       "    <tr>\n",
       "      <th>23</th>\n",
       "      <td>hotel monaco great location service hotel mona...</td>\n",
       "      <td>5</td>\n",
       "      <td>{'neg': 0.045, 'neu': 0.769, 'pos': 0.186, 'co...</td>\n",
       "      <td>0.9690</td>\n",
       "    </tr>\n",
       "    <tr>\n",
       "      <th>24</th>\n",
       "      <td>great location need internally upgrade advanta...</td>\n",
       "      <td>2</td>\n",
       "      <td>{'neg': 0.072, 'neu': 0.594, 'pos': 0.334, 'co...</td>\n",
       "      <td>0.9153</td>\n",
       "    </tr>\n",
       "    <tr>\n",
       "      <th>32</th>\n",
       "      <td>noise airconditioner-a standard, arranged stay...</td>\n",
       "      <td>1</td>\n",
       "      <td>{'neg': 0.093, 'neu': 0.704, 'pos': 0.203, 'co...</td>\n",
       "      <td>0.8716</td>\n",
       "    </tr>\n",
       "    <tr>\n",
       "      <th>33</th>\n",
       "      <td>good location poor cleanliness warwick hotel g...</td>\n",
       "      <td>2</td>\n",
       "      <td>{'neg': 0.128, 'neu': 0.654, 'pos': 0.218, 'co...</td>\n",
       "      <td>0.8874</td>\n",
       "    </tr>\n",
       "    <tr>\n",
       "      <th>37</th>\n",
       "      <td>gem hotel absolute gem, small great service, r...</td>\n",
       "      <td>5</td>\n",
       "      <td>{'neg': 0.1, 'neu': 0.497, 'pos': 0.403, 'comp...</td>\n",
       "      <td>0.9586</td>\n",
       "    </tr>\n",
       "    <tr>\n",
       "      <th>40</th>\n",
       "      <td>bad choice, booked hotel hot wire called immed...</td>\n",
       "      <td>1</td>\n",
       "      <td>{'neg': 0.192, 'neu': 0.741, 'pos': 0.067, 'co...</td>\n",
       "      <td>-0.9249</td>\n",
       "    </tr>\n",
       "  </tbody>\n",
       "</table>\n",
       "</div>"
      ],
      "text/plain": [
       "                                               Review  Rating  \\\n",
       "1   ok nothing special charge diamond member hilto...       2   \n",
       "3   unique, great stay, wonderful time hotel monac...       5   \n",
       "4   great stay great stay, went seahawk game aweso...       5   \n",
       "5   love monaco staff husband stayed hotel crazy w...       5   \n",
       "6   cozy stay rainy city, husband spent 7 nights m...       5   \n",
       "8   hotel stayed hotel monaco cruise, rooms genero...       5   \n",
       "9   excellent stayed hotel monaco past w/e delight...       5   \n",
       "10  poor value stayed monaco seattle july, nice ho...       2   \n",
       "15  horrible customer service hotel stay february ...       1   \n",
       "16  disappointed say anticipating stay hotel monac...       2   \n",
       "17  fantastic stay monaco seattle hotel monaco hol...       5   \n",
       "18  good choice hotel recommended sister, great lo...       5   \n",
       "20  service service service spent week g-friend la...       5   \n",
       "21  excellent stay, delightful surprise stay monac...       5   \n",
       "23  hotel monaco great location service hotel mona...       5   \n",
       "24  great location need internally upgrade advanta...       2   \n",
       "32  noise airconditioner-a standard, arranged stay...       1   \n",
       "33  good location poor cleanliness warwick hotel g...       2   \n",
       "37  gem hotel absolute gem, small great service, r...       5   \n",
       "40  bad choice, booked hotel hot wire called immed...       1   \n",
       "\n",
       "                                               scores  compound  \n",
       "1   {'neg': 0.11, 'neu': 0.701, 'pos': 0.189, 'com...    0.9787  \n",
       "3   {'neg': 0.06, 'neu': 0.555, 'pos': 0.385, 'com...    0.9912  \n",
       "4   {'neg': 0.135, 'neu': 0.643, 'pos': 0.221, 'co...    0.9797  \n",
       "5   {'neg': 0.084, 'neu': 0.651, 'pos': 0.265, 'co...    0.9870  \n",
       "6   {'neg': 0.026, 'neu': 0.609, 'pos': 0.364, 'co...    0.9925  \n",
       "8   {'neg': 0.038, 'neu': 0.663, 'pos': 0.298, 'co...    0.9618  \n",
       "9   {'neg': 0.064, 'neu': 0.451, 'pos': 0.484, 'co...    0.9756  \n",
       "10  {'neg': 0.08, 'neu': 0.524, 'pos': 0.395, 'com...    0.9666  \n",
       "15  {'neg': 0.132, 'neu': 0.701, 'pos': 0.167, 'co...    0.8496  \n",
       "16  {'neg': 0.096, 'neu': 0.668, 'pos': 0.236, 'co...    0.9905  \n",
       "17  {'neg': 0.042, 'neu': 0.625, 'pos': 0.333, 'co...    0.9948  \n",
       "18  {'neg': 0.084, 'neu': 0.405, 'pos': 0.512, 'co...    0.9300  \n",
       "20  {'neg': 0.07, 'neu': 0.741, 'pos': 0.189, 'com...    0.9754  \n",
       "21  {'neg': 0.0, 'neu': 0.287, 'pos': 0.713, 'comp...    0.9831  \n",
       "23  {'neg': 0.045, 'neu': 0.769, 'pos': 0.186, 'co...    0.9690  \n",
       "24  {'neg': 0.072, 'neu': 0.594, 'pos': 0.334, 'co...    0.9153  \n",
       "32  {'neg': 0.093, 'neu': 0.704, 'pos': 0.203, 'co...    0.8716  \n",
       "33  {'neg': 0.128, 'neu': 0.654, 'pos': 0.218, 'co...    0.8874  \n",
       "37  {'neg': 0.1, 'neu': 0.497, 'pos': 0.403, 'comp...    0.9586  \n",
       "40  {'neg': 0.192, 'neu': 0.741, 'pos': 0.067, 'co...   -0.9249  "
      ]
     },
     "execution_count": 12,
     "metadata": {},
     "output_type": "execute_result"
    }
   ],
   "source": [
    "reviews['compound'] = reviews.scores.apply(lambda s: s['compound'])\n",
    "reviews.head(20)"
   ]
  },
  {
   "cell_type": "markdown",
   "metadata": {
    "id": "GMo4aFTFbFjP"
   },
   "source": [
    "# Let's add a new column **prediction**.\n",
    "\n",
    "This column **prediction** is based in the compound. If the compound value is > 0, it will be the prediction = pos and, otherwise will be prediction = neg."
   ]
  },
  {
   "cell_type": "code",
   "execution_count": 13,
   "metadata": {
    "id": "tRzsI78pW6pt"
   },
   "outputs": [],
   "source": [
    "reviews['prediction'] = reviews['compound'].apply(lambda c: 'pos' if c >0 else 'neg')"
   ]
  },
  {
   "cell_type": "markdown",
   "metadata": {
    "id": "kmD89wSjcGBt"
   },
   "source": [
    "# Let's check the prediction value added."
   ]
  },
  {
   "cell_type": "code",
   "execution_count": 15,
   "metadata": {
    "colab": {
     "base_uri": "https://localhost:8080/",
     "height": 363
    },
    "id": "8wL4iHx-XH7a",
    "outputId": "3ab2eb53-f0f7-4f93-8c11-7526cf3e1114"
   },
   "outputs": [
    {
     "data": {
      "text/html": [
       "<div>\n",
       "<style scoped>\n",
       "    .dataframe tbody tr th:only-of-type {\n",
       "        vertical-align: middle;\n",
       "    }\n",
       "\n",
       "    .dataframe tbody tr th {\n",
       "        vertical-align: top;\n",
       "    }\n",
       "\n",
       "    .dataframe thead th {\n",
       "        text-align: right;\n",
       "    }\n",
       "</style>\n",
       "<table border=\"1\" class=\"dataframe\">\n",
       "  <thead>\n",
       "    <tr style=\"text-align: right;\">\n",
       "      <th></th>\n",
       "      <th>Review</th>\n",
       "      <th>Rating</th>\n",
       "      <th>scores</th>\n",
       "      <th>compound</th>\n",
       "      <th>prediction</th>\n",
       "    </tr>\n",
       "  </thead>\n",
       "  <tbody>\n",
       "    <tr>\n",
       "      <th>1</th>\n",
       "      <td>ok nothing special charge diamond member hilto...</td>\n",
       "      <td>2</td>\n",
       "      <td>{'neg': 0.11, 'neu': 0.701, 'pos': 0.189, 'com...</td>\n",
       "      <td>0.9787</td>\n",
       "      <td>pos</td>\n",
       "    </tr>\n",
       "    <tr>\n",
       "      <th>3</th>\n",
       "      <td>unique, great stay, wonderful time hotel monac...</td>\n",
       "      <td>5</td>\n",
       "      <td>{'neg': 0.06, 'neu': 0.555, 'pos': 0.385, 'com...</td>\n",
       "      <td>0.9912</td>\n",
       "      <td>pos</td>\n",
       "    </tr>\n",
       "    <tr>\n",
       "      <th>4</th>\n",
       "      <td>great stay great stay, went seahawk game aweso...</td>\n",
       "      <td>5</td>\n",
       "      <td>{'neg': 0.135, 'neu': 0.643, 'pos': 0.221, 'co...</td>\n",
       "      <td>0.9797</td>\n",
       "      <td>pos</td>\n",
       "    </tr>\n",
       "    <tr>\n",
       "      <th>5</th>\n",
       "      <td>love monaco staff husband stayed hotel crazy w...</td>\n",
       "      <td>5</td>\n",
       "      <td>{'neg': 0.084, 'neu': 0.651, 'pos': 0.265, 'co...</td>\n",
       "      <td>0.9870</td>\n",
       "      <td>pos</td>\n",
       "    </tr>\n",
       "    <tr>\n",
       "      <th>6</th>\n",
       "      <td>cozy stay rainy city, husband spent 7 nights m...</td>\n",
       "      <td>5</td>\n",
       "      <td>{'neg': 0.026, 'neu': 0.609, 'pos': 0.364, 'co...</td>\n",
       "      <td>0.9925</td>\n",
       "      <td>pos</td>\n",
       "    </tr>\n",
       "    <tr>\n",
       "      <th>8</th>\n",
       "      <td>hotel stayed hotel monaco cruise, rooms genero...</td>\n",
       "      <td>5</td>\n",
       "      <td>{'neg': 0.038, 'neu': 0.663, 'pos': 0.298, 'co...</td>\n",
       "      <td>0.9618</td>\n",
       "      <td>pos</td>\n",
       "    </tr>\n",
       "    <tr>\n",
       "      <th>9</th>\n",
       "      <td>excellent stayed hotel monaco past w/e delight...</td>\n",
       "      <td>5</td>\n",
       "      <td>{'neg': 0.064, 'neu': 0.451, 'pos': 0.484, 'co...</td>\n",
       "      <td>0.9756</td>\n",
       "      <td>pos</td>\n",
       "    </tr>\n",
       "    <tr>\n",
       "      <th>10</th>\n",
       "      <td>poor value stayed monaco seattle july, nice ho...</td>\n",
       "      <td>2</td>\n",
       "      <td>{'neg': 0.08, 'neu': 0.524, 'pos': 0.395, 'com...</td>\n",
       "      <td>0.9666</td>\n",
       "      <td>pos</td>\n",
       "    </tr>\n",
       "    <tr>\n",
       "      <th>15</th>\n",
       "      <td>horrible customer service hotel stay february ...</td>\n",
       "      <td>1</td>\n",
       "      <td>{'neg': 0.132, 'neu': 0.701, 'pos': 0.167, 'co...</td>\n",
       "      <td>0.8496</td>\n",
       "      <td>pos</td>\n",
       "    </tr>\n",
       "    <tr>\n",
       "      <th>16</th>\n",
       "      <td>disappointed say anticipating stay hotel monac...</td>\n",
       "      <td>2</td>\n",
       "      <td>{'neg': 0.096, 'neu': 0.668, 'pos': 0.236, 'co...</td>\n",
       "      <td>0.9905</td>\n",
       "      <td>pos</td>\n",
       "    </tr>\n",
       "    <tr>\n",
       "      <th>17</th>\n",
       "      <td>fantastic stay monaco seattle hotel monaco hol...</td>\n",
       "      <td>5</td>\n",
       "      <td>{'neg': 0.042, 'neu': 0.625, 'pos': 0.333, 'co...</td>\n",
       "      <td>0.9948</td>\n",
       "      <td>pos</td>\n",
       "    </tr>\n",
       "    <tr>\n",
       "      <th>18</th>\n",
       "      <td>good choice hotel recommended sister, great lo...</td>\n",
       "      <td>5</td>\n",
       "      <td>{'neg': 0.084, 'neu': 0.405, 'pos': 0.512, 'co...</td>\n",
       "      <td>0.9300</td>\n",
       "      <td>pos</td>\n",
       "    </tr>\n",
       "    <tr>\n",
       "      <th>20</th>\n",
       "      <td>service service service spent week g-friend la...</td>\n",
       "      <td>5</td>\n",
       "      <td>{'neg': 0.07, 'neu': 0.741, 'pos': 0.189, 'com...</td>\n",
       "      <td>0.9754</td>\n",
       "      <td>pos</td>\n",
       "    </tr>\n",
       "    <tr>\n",
       "      <th>21</th>\n",
       "      <td>excellent stay, delightful surprise stay monac...</td>\n",
       "      <td>5</td>\n",
       "      <td>{'neg': 0.0, 'neu': 0.287, 'pos': 0.713, 'comp...</td>\n",
       "      <td>0.9831</td>\n",
       "      <td>pos</td>\n",
       "    </tr>\n",
       "    <tr>\n",
       "      <th>23</th>\n",
       "      <td>hotel monaco great location service hotel mona...</td>\n",
       "      <td>5</td>\n",
       "      <td>{'neg': 0.045, 'neu': 0.769, 'pos': 0.186, 'co...</td>\n",
       "      <td>0.9690</td>\n",
       "      <td>pos</td>\n",
       "    </tr>\n",
       "  </tbody>\n",
       "</table>\n",
       "</div>"
      ],
      "text/plain": [
       "                                               Review  Rating  \\\n",
       "1   ok nothing special charge diamond member hilto...       2   \n",
       "3   unique, great stay, wonderful time hotel monac...       5   \n",
       "4   great stay great stay, went seahawk game aweso...       5   \n",
       "5   love monaco staff husband stayed hotel crazy w...       5   \n",
       "6   cozy stay rainy city, husband spent 7 nights m...       5   \n",
       "8   hotel stayed hotel monaco cruise, rooms genero...       5   \n",
       "9   excellent stayed hotel monaco past w/e delight...       5   \n",
       "10  poor value stayed monaco seattle july, nice ho...       2   \n",
       "15  horrible customer service hotel stay february ...       1   \n",
       "16  disappointed say anticipating stay hotel monac...       2   \n",
       "17  fantastic stay monaco seattle hotel monaco hol...       5   \n",
       "18  good choice hotel recommended sister, great lo...       5   \n",
       "20  service service service spent week g-friend la...       5   \n",
       "21  excellent stay, delightful surprise stay monac...       5   \n",
       "23  hotel monaco great location service hotel mona...       5   \n",
       "\n",
       "                                               scores  compound prediction  \n",
       "1   {'neg': 0.11, 'neu': 0.701, 'pos': 0.189, 'com...    0.9787        pos  \n",
       "3   {'neg': 0.06, 'neu': 0.555, 'pos': 0.385, 'com...    0.9912        pos  \n",
       "4   {'neg': 0.135, 'neu': 0.643, 'pos': 0.221, 'co...    0.9797        pos  \n",
       "5   {'neg': 0.084, 'neu': 0.651, 'pos': 0.265, 'co...    0.9870        pos  \n",
       "6   {'neg': 0.026, 'neu': 0.609, 'pos': 0.364, 'co...    0.9925        pos  \n",
       "8   {'neg': 0.038, 'neu': 0.663, 'pos': 0.298, 'co...    0.9618        pos  \n",
       "9   {'neg': 0.064, 'neu': 0.451, 'pos': 0.484, 'co...    0.9756        pos  \n",
       "10  {'neg': 0.08, 'neu': 0.524, 'pos': 0.395, 'com...    0.9666        pos  \n",
       "15  {'neg': 0.132, 'neu': 0.701, 'pos': 0.167, 'co...    0.8496        pos  \n",
       "16  {'neg': 0.096, 'neu': 0.668, 'pos': 0.236, 'co...    0.9905        pos  \n",
       "17  {'neg': 0.042, 'neu': 0.625, 'pos': 0.333, 'co...    0.9948        pos  \n",
       "18  {'neg': 0.084, 'neu': 0.405, 'pos': 0.512, 'co...    0.9300        pos  \n",
       "20  {'neg': 0.07, 'neu': 0.741, 'pos': 0.189, 'com...    0.9754        pos  \n",
       "21  {'neg': 0.0, 'neu': 0.287, 'pos': 0.713, 'comp...    0.9831        pos  \n",
       "23  {'neg': 0.045, 'neu': 0.769, 'pos': 0.186, 'co...    0.9690        pos  "
      ]
     },
     "execution_count": 15,
     "metadata": {},
     "output_type": "execute_result"
    }
   ],
   "source": [
    "reviews.head(15)"
   ]
  },
  {
   "cell_type": "markdown",
   "metadata": {
    "id": "cBsCn88TcObI"
   },
   "source": [
    "## Quantity of Positive and Negative Values in Prediction\n",
    "\n",
    "Let's see how many records in dataframe Reviews, in the column Prediction are Positive (pos) and Negative (neg)"
   ]
  },
  {
   "cell_type": "code",
   "execution_count": 16,
   "metadata": {
    "colab": {
     "base_uri": "https://localhost:8080/",
     "height": 178
    },
    "id": "Nbrgc2ZxXOO8",
    "outputId": "138fccc2-251d-420f-f517-c345cee54360"
   },
   "outputs": [
    {
     "data": {
      "text/plain": [
       "prediction\n",
       "pos    10876\n",
       "neg     1392\n",
       "Name: count, dtype: int64"
      ]
     },
     "execution_count": 16,
     "metadata": {},
     "output_type": "execute_result"
    }
   ],
   "source": [
    "reviews.prediction.value_counts()\n"
   ]
  },
  {
   "cell_type": "markdown",
   "metadata": {
    "id": "rGozvZ0hFw1u"
   },
   "source": [
    "## Analyzing Metrics\n",
    "\n",
    "Let's get the metrics to compare the predictions obtained with NTLK and VADER_LEXICON vs Rating converted into a new column *+sentiment_label** with positive (pos) and negative (neg) as values based in the values in Rating. 5 is positive (pos), and 1 and 2 are negative (neg)  "
   ]
  },
  {
   "cell_type": "code",
   "execution_count": 17,
   "metadata": {
    "colab": {
     "base_uri": "https://localhost:8080/",
     "height": 206
    },
    "id": "zSlq-s1dYMMw",
    "outputId": "15a31aca-18e8-4e4c-dffc-b74e4bd3a890"
   },
   "outputs": [
    {
     "data": {
      "text/html": [
       "<div>\n",
       "<style scoped>\n",
       "    .dataframe tbody tr th:only-of-type {\n",
       "        vertical-align: middle;\n",
       "    }\n",
       "\n",
       "    .dataframe tbody tr th {\n",
       "        vertical-align: top;\n",
       "    }\n",
       "\n",
       "    .dataframe thead th {\n",
       "        text-align: right;\n",
       "    }\n",
       "</style>\n",
       "<table border=\"1\" class=\"dataframe\">\n",
       "  <thead>\n",
       "    <tr style=\"text-align: right;\">\n",
       "      <th></th>\n",
       "      <th>Review</th>\n",
       "      <th>Rating</th>\n",
       "      <th>scores</th>\n",
       "      <th>compound</th>\n",
       "      <th>prediction</th>\n",
       "      <th>sentiment_label</th>\n",
       "    </tr>\n",
       "  </thead>\n",
       "  <tbody>\n",
       "    <tr>\n",
       "      <th>1</th>\n",
       "      <td>ok nothing special charge diamond member hilto...</td>\n",
       "      <td>2</td>\n",
       "      <td>{'neg': 0.11, 'neu': 0.701, 'pos': 0.189, 'com...</td>\n",
       "      <td>0.9787</td>\n",
       "      <td>pos</td>\n",
       "      <td>neg</td>\n",
       "    </tr>\n",
       "    <tr>\n",
       "      <th>3</th>\n",
       "      <td>unique, great stay, wonderful time hotel monac...</td>\n",
       "      <td>5</td>\n",
       "      <td>{'neg': 0.06, 'neu': 0.555, 'pos': 0.385, 'com...</td>\n",
       "      <td>0.9912</td>\n",
       "      <td>pos</td>\n",
       "      <td>pos</td>\n",
       "    </tr>\n",
       "    <tr>\n",
       "      <th>4</th>\n",
       "      <td>great stay great stay, went seahawk game aweso...</td>\n",
       "      <td>5</td>\n",
       "      <td>{'neg': 0.135, 'neu': 0.643, 'pos': 0.221, 'co...</td>\n",
       "      <td>0.9797</td>\n",
       "      <td>pos</td>\n",
       "      <td>pos</td>\n",
       "    </tr>\n",
       "    <tr>\n",
       "      <th>5</th>\n",
       "      <td>love monaco staff husband stayed hotel crazy w...</td>\n",
       "      <td>5</td>\n",
       "      <td>{'neg': 0.084, 'neu': 0.651, 'pos': 0.265, 'co...</td>\n",
       "      <td>0.9870</td>\n",
       "      <td>pos</td>\n",
       "      <td>pos</td>\n",
       "    </tr>\n",
       "    <tr>\n",
       "      <th>6</th>\n",
       "      <td>cozy stay rainy city, husband spent 7 nights m...</td>\n",
       "      <td>5</td>\n",
       "      <td>{'neg': 0.026, 'neu': 0.609, 'pos': 0.364, 'co...</td>\n",
       "      <td>0.9925</td>\n",
       "      <td>pos</td>\n",
       "      <td>pos</td>\n",
       "    </tr>\n",
       "  </tbody>\n",
       "</table>\n",
       "</div>"
      ],
      "text/plain": [
       "                                              Review  Rating  \\\n",
       "1  ok nothing special charge diamond member hilto...       2   \n",
       "3  unique, great stay, wonderful time hotel monac...       5   \n",
       "4  great stay great stay, went seahawk game aweso...       5   \n",
       "5  love monaco staff husband stayed hotel crazy w...       5   \n",
       "6  cozy stay rainy city, husband spent 7 nights m...       5   \n",
       "\n",
       "                                              scores  compound prediction  \\\n",
       "1  {'neg': 0.11, 'neu': 0.701, 'pos': 0.189, 'com...    0.9787        pos   \n",
       "3  {'neg': 0.06, 'neu': 0.555, 'pos': 0.385, 'com...    0.9912        pos   \n",
       "4  {'neg': 0.135, 'neu': 0.643, 'pos': 0.221, 'co...    0.9797        pos   \n",
       "5  {'neg': 0.084, 'neu': 0.651, 'pos': 0.265, 'co...    0.9870        pos   \n",
       "6  {'neg': 0.026, 'neu': 0.609, 'pos': 0.364, 'co...    0.9925        pos   \n",
       "\n",
       "  sentiment_label  \n",
       "1             neg  \n",
       "3             pos  \n",
       "4             pos  \n",
       "5             pos  \n",
       "6             pos  "
      ]
     },
     "metadata": {},
     "output_type": "display_data"
    }
   ],
   "source": [
    "# Map the 'Rating' values to 'neg' and 'pos'\n",
    "reviews['sentiment_label'] = reviews['Rating'].apply(lambda rating: 'neg' if rating <= 2 else 'pos')\n",
    "\n",
    "# Display the first few rows to show the new column\n",
    "display(reviews.head())"
   ]
  },
  {
   "cell_type": "code",
   "execution_count": 19,
   "metadata": {
    "colab": {
     "base_uri": "https://localhost:8080/"
    },
    "id": "y3itc9WhFw1v",
    "outputId": "c425cdf7-d213-4e64-858e-d49b6fa96963"
   },
   "outputs": [
    {
     "name": "stdout",
     "output_type": "stream",
     "text": [
      "Accuracy:\n",
      "0.843495272253016\n",
      "\n",
      "Classification Report:\n",
      "              precision    recall  f1-score   support\n",
      "\n",
      "         neg       0.96      0.42      0.58      3214\n",
      "         pos       0.83      0.99      0.90      9054\n",
      "\n",
      "    accuracy                           0.84     12268\n",
      "   macro avg       0.90      0.71      0.74     12268\n",
      "weighted avg       0.86      0.84      0.82     12268\n",
      "\n",
      "Confusion Matrix:\n",
      "[[1343 1871]\n",
      " [  49 9005]]\n"
     ]
    }
   ],
   "source": [
    "from sklearn.metrics import accuracy_score, confusion_matrix, classification_report\n",
    "\n",
    "# Assigning the real sentiment based in the Rating given.\n",
    "y_true = reviews.sentiment_label.values\n",
    "\n",
    "## Assigning the prediction done by NTLTK with VADER_LEXICON\n",
    "y_pred = reviews.prediction.values\n",
    "\n",
    "\n",
    "# Getting the metrics: Accuracy (acc), Confussion Matrix (cm) and Classification Report (cr)\n",
    "acc = accuracy_score(y_true, y_pred)\n",
    "cm = confusion_matrix(y_true, y_pred)\n",
    "cr = classification_report(y_true, y_pred)\n",
    "\n",
    "#Printing the result of the metrics\n",
    "print(f\"Accuracy:\\n{acc}\\n\")\n",
    "print(f\"Classification Report:\\n{cr}\")\n",
    "print(f\"Confusion Matrix:\\n{cm}\")"
   ]
  },
  {
   "cell_type": "markdown",
   "metadata": {
    "id": "ufl6HmOJFw1v"
   },
   "source": []
  },
  {
   "cell_type": "code",
   "execution_count": 22,
   "metadata": {
    "colab": {
     "base_uri": "https://localhost:8080/",
     "height": 1000
    },
    "id": "PjK6aQx-jmsL",
    "outputId": "2f0b072d-72ac-4f33-d9ef-5432a6e08b6c"
   },
   "outputs": [
    {
     "data": {
      "image/png": "[encoded data removed]",
      "text/plain": [
       "<Figure size 600x500 with 2 Axes>"
      ]
     },
     "metadata": {},
     "output_type": "display_data"
    },
    {
     "data": {
      "image/png": "[encoded data removed]",
      "text/plain": [
       "<Figure size 600x400 with 1 Axes>"
      ]
     },
     "metadata": {},
     "output_type": "display_data"
    },
    {
     "name": "stdout",
     "output_type": "stream",
     "text": [
      "Classification Report:\n",
      "\n",
      "              precision    recall  f1-score   support\n",
      "\n",
      "         neg       0.96      0.42      0.58      3214\n",
      "         pos       0.83      0.99      0.90      9054\n",
      "\n",
      "    accuracy                           0.84     12268\n",
      "   macro avg       0.90      0.71      0.74     12268\n",
      "weighted avg       0.86      0.84      0.82     12268\n",
      "\n"
     ]
    }
   ],
   "source": [
    "import matplotlib.pyplot as plt\n",
    "import seaborn as sns\n",
    "from sklearn.metrics import accuracy_score, confusion_matrix, classification_report\n",
    "\n",
    "# Actual sentiment labels\n",
    "y_true = reviews[\"sentiment_label\"].values\n",
    "\n",
    "# Predicted sentiment labels\n",
    "y_pred = reviews[\"prediction\"].values\n",
    "\n",
    "# Metrics\n",
    "accuracy = accuracy_score(y_true, y_pred)\n",
    "conf_matrix = confusion_matrix(y_true, y_pred)\n",
    "class_report = classification_report(y_true, y_pred, output_dict=True)\n",
    "\n",
    "# ---- 1. Confusion Matrix Heatmap ----\n",
    "plt.figure(figsize=(6, 5))\n",
    "sns.heatmap(conf_matrix, annot=True, fmt='d', cmap='Blues',\n",
    "            xticklabels=[\"Negative\", \"Positive\"],\n",
    "            yticklabels=[\"Negative\", \"Positive\"])\n",
    "plt.xlabel(\"Predicted Label\")\n",
    "plt.ylabel(\"True Label\")\n",
    "plt.title(f\"Confusion Matrix (Accuracy: {accuracy:.2%})\")\n",
    "plt.show()\n",
    "\n",
    "# ---- 2. Class Distribution Bar Chart ----\n",
    "plt.figure(figsize=(6, 4))\n",
    "sns.countplot(x=y_pred, order=[\"neg\", \"pos\"], palette=\"coolwarm\")\n",
    "plt.xlabel(\"Predicted Sentiment\")\n",
    "plt.ylabel(\"Count\")\n",
    "plt.title(\"Prediction Distribution\")\n",
    "plt.show()\n",
    "\n",
    "# ---- 3. Print the classification report ----\n",
    "print(\"Classification Report:\\n\")\n",
    "print(classification_report(y_true, y_pred))\n"
   ]
  },
  {
   "cell_type": "markdown",
   "metadata": {
    "id": "WYMxbW_MkbMk"
   },
   "source": []
  },
  {
   "cell_type": "markdown",
   "metadata": {
    "id": "P3q05avLjvjh"
   },
   "source": [
    "<h1>CONCLUSIONS</h1>\n"
   ]
  },
  {
   "cell_type": "markdown",
   "metadata": {
    "id": "tAvjxMxkjzob"
   },
   "source": [
    "## 📊 Confusion Matrix (Color-Coded)\n",
    "\n",
    "|               | **Predicted Negative** | **Predicted Positive** |\n",
    "|---------------|------------------------|------------------------|\n",
    "| **Actual Negative** | <span style=\"color:green\">**1343 (TN)**</span> ✅<br><small>Correctly predicted as negative.</small> | <span style=\"color:red\">**1871 (FP)**</span> ❌<br><small>Predicted positive when actually negative (Type I error).</small> |\n",
    "| **Actual Positive** | <span style=\"color:red\">**49 (FN)**</span> ❌<br><small>Predicted negative when actually positive (Type II error).</small> | <span style=\"color:green\">**9005 (TP)**</span> ✅<br><small>Correctly predicted as positive.</small> |\n",
    "\n",
    "---\n",
    "\n",
    "## 📈 Accuracy\n",
    "**0.8435** (≈ **84.35%**)\n",
    "\n",
    "> The model correctly predicts sentiment for about **84%** of reviews.  \n",
    "> However, because the dataset is **imbalanced** (many more positives than negatives), this single number can be **misleading**—it masks weaker performance on the negative class.\n",
    "\n",
    "---\n",
    "\n",
    "## 📐 Precision, Recall, and F1-Score\n",
    "\n",
    "| Metric   | Negative (`neg`) | Positive (`pos`) |\n",
    "|----------|------------------|------------------|\n",
    "| **Precision** | <span style=\"color:green\">**0.96**</span> ✅ | **0.83** |\n",
    "| **Recall**    | <span style=\"color:red\">**0.42**</span> ❌ | <span style=\"color:green\">**0.99**</span> ✅ |\n",
    "| **F1-score**  | **0.58** | <span style=\"color:green\">**0.90**</span> ✅ |\n",
    "\n",
    "**What they mean:**\n",
    "- **Precision**: When the model predicts a class, how often is it correct?\n",
    "  - `neg`: 96% (very reliable when it flags “negative”).\n",
    "  - `pos`: 83%.\n",
    "- **Recall**: Of the actual instances of a class, how many did the model find?\n",
    "  - `neg`: 42% (low—misses many truly negative reviews).\n",
    "  - `pos`: 99% (excellent—finds almost all positives).\n",
    "- **F1-score**: Balance of precision and recall.\n",
    "  - `neg`: 0.58 (driven down by low recall).\n",
    "  - `pos`: 0.90 (strong overall).\n",
    "\n",
    "---\n",
    "\n",
    "## 🧭 Key Insights\n",
    "1. **Strengths**\n",
    "   - Outstanding at detecting **positive** reviews (high recall **and** high F1 for `pos`).\n",
    "   - When it predicts **negative**, it is **usually right** (precision = **0.96**).\n",
    "\n",
    "2. **Weaknesses**\n",
    "   - Struggles to **find** all negative reviews (recall for `neg` = **0.42**), leading to many **false positives** (negatives mislabeled as positive).\n",
    "\n",
    "3. **Why Accuracy Isn’t Enough**\n",
    "   - With an **imbalanced dataset**, high accuracy can be achieved by favoring the majority class (positives), while **underperforming** on the minority class (negatives).\n",
    "\n",
    "4. **Practical Takeaway**\n",
    "   - If catching **dissatisfied** customers matters, prioritize improving **recall for `neg`** (e.g., class weighting, threshold tuning, resampling, or in this case a different classifier).\n",
    "\n"
   ]
  }
 ],
 "metadata": {
  "colab": {
   "provenance": []
  },
  "kernelspec": {
   "display_name": "Python 3 (ipykernel)",
   "language": "python",
   "name": "python3"
  },
  "language_info": {
   "codemirror_mode": {
    "name": "ipython",
    "version": 3
   },
   "file_extension": ".py",
   "mimetype": "text/x-python",
   "name": "python",
   "nbconvert_exporter": "python",
   "pygments_lexer": "ipython3",
   "version": "3.10.18"
  }
 },
 "nbformat": 4,
 "nbformat_minor": 4
}
